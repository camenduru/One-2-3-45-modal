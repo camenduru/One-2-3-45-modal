{
 "cells": [
  {
   "cell_type": "markdown",
   "metadata": {
    "id": "view-in-github"
   },
   "source": [
    "[![Open In Colab](https://colab.research.google.com/assets/colab-badge.svg)](https://colab.research.google.com/github/camenduru/One-2-3-45-modal/blob/main/One_2_3_45_modal.ipynb)"
   ]
  },
  {
   "cell_type": "code",
   "execution_count": null,
   "metadata": {},
   "outputs": [],
   "source": [
    "!pip install modal\n",
    "!modal token set --token-id TOKEN-ID --token-secret TOKEN-SECRET\n",
    "!wget https://github.com/camenduru/One-2-3-45-modal/raw/main/demo.py -O /content/demo.py\n",
    "!modal serve /content/demo.py"
   ]
  }
 ],
 "metadata": {
  "language_info": {
   "name": "python"
  },
  "orig_nbformat": 4
 },
 "nbformat": 4,
 "nbformat_minor": 2
}
